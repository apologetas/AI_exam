{
 "cells": [
  {
   "metadata": {
    "ExecuteTime": {
     "end_time": "2025-05-15T05:41:57.900442Z",
     "start_time": "2025-05-15T05:41:57.892213Z"
    }
   },
   "cell_type": "code",
   "source": [
    "import gymnasium as gym\n",
    "import random\n"
   ],
   "id": "42c7e6fc6855b15a",
   "outputs": [],
   "execution_count": 2
  },
  {
   "metadata": {
    "ExecuteTime": {
     "end_time": "2025-05-15T05:42:00.219544Z",
     "start_time": "2025-05-15T05:42:00.199036Z"
    }
   },
   "cell_type": "code",
   "source": [
    "env = gym.make('CartPole-v1')\n",
    "state = env.observation_space.shape[0]\n",
    "actions = env.action_space.n\n"
   ],
   "id": "155b2028ce7d0344",
   "outputs": [],
   "execution_count": 3
  },
  {
   "metadata": {
    "ExecuteTime": {
     "end_time": "2025-05-15T05:42:07.505387Z",
     "start_time": "2025-05-15T05:42:07.502276Z"
    }
   },
   "cell_type": "code",
   "source": "",
   "id": "9c9b7ec0470cbd98",
   "outputs": [],
   "execution_count": null
  },
  {
   "metadata": {
    "ExecuteTime": {
     "end_time": "2025-03-27T14:05:08.962562Z",
     "start_time": "2025-03-27T14:04:22.413870Z"
    }
   },
   "cell_type": "code",
   "source": [
    "import gymnasium as gym\n",
    "import random\n",
    "import time\n",
    "\n",
    "env = gym.make('CartPole-v1', render_mode=\"human\")\n",
    "states = env.observation_space.shape[0]\n",
    "actions = env.action_space.n\n",
    "\n",
    "episodes = 50\n",
    "\n",
    "for episode in range(1, episodes+1):\n",
    "    state, _ = env.reset()  # Changed for gymnasium\n",
    "    done = False\n",
    "    score = 0\n",
    "\n",
    "    while not done:\n",
    "        env.render()\n",
    "        time.sleep(0.02)\n",
    "        action = random.choice([0, 1])\n",
    "        n_state, reward, terminated, truncated, info = env.step(action)  # Changed for gymnasium\n",
    "        done = terminated or truncated  # Changed for gymnasium\n",
    "        score += reward\n",
    "    print('Episode:{} Score:{}'.format(episode, score))\n",
    "\n",
    "env.close()"
   ],
   "id": "7c61a84232f8e505",
   "outputs": [
    {
     "name": "stdout",
     "output_type": "stream",
     "text": [
      "Episode:1 Score:12.0\n",
      "Episode:2 Score:24.0\n",
      "Episode:3 Score:12.0\n",
      "Episode:4 Score:18.0\n",
      "Episode:5 Score:29.0\n",
      "Episode:6 Score:14.0\n",
      "Episode:7 Score:18.0\n",
      "Episode:8 Score:17.0\n",
      "Episode:9 Score:19.0\n",
      "Episode:10 Score:17.0\n",
      "Episode:11 Score:12.0\n",
      "Episode:12 Score:15.0\n",
      "Episode:13 Score:12.0\n",
      "Episode:14 Score:12.0\n",
      "Episode:15 Score:26.0\n",
      "Episode:16 Score:37.0\n",
      "Episode:17 Score:37.0\n",
      "Episode:18 Score:16.0\n",
      "Episode:19 Score:40.0\n",
      "Episode:20 Score:27.0\n",
      "Episode:21 Score:47.0\n",
      "Episode:22 Score:12.0\n",
      "Episode:23 Score:16.0\n",
      "Episode:24 Score:41.0\n",
      "Episode:25 Score:36.0\n",
      "Episode:26 Score:16.0\n",
      "Episode:27 Score:37.0\n",
      "Episode:28 Score:15.0\n",
      "Episode:29 Score:32.0\n",
      "Episode:30 Score:13.0\n",
      "Episode:31 Score:16.0\n",
      "Episode:32 Score:11.0\n",
      "Episode:33 Score:22.0\n",
      "Episode:34 Score:16.0\n",
      "Episode:35 Score:12.0\n",
      "Episode:36 Score:27.0\n",
      "Episode:37 Score:18.0\n",
      "Episode:38 Score:12.0\n",
      "Episode:39 Score:15.0\n",
      "Episode:40 Score:26.0\n",
      "Episode:41 Score:16.0\n",
      "Episode:42 Score:15.0\n",
      "Episode:43 Score:47.0\n",
      "Episode:44 Score:20.0\n",
      "Episode:45 Score:17.0\n",
      "Episode:46 Score:23.0\n",
      "Episode:47 Score:13.0\n",
      "Episode:48 Score:16.0\n",
      "Episode:49 Score:19.0\n",
      "Episode:50 Score:27.0\n"
     ]
    }
   ],
   "execution_count": 16
  }
 ],
 "metadata": {
  "kernelspec": {
   "display_name": "Python 3",
   "language": "python",
   "name": "python3"
  },
  "language_info": {
   "codemirror_mode": {
    "name": "ipython",
    "version": 2
   },
   "file_extension": ".py",
   "mimetype": "text/x-python",
   "name": "python",
   "nbconvert_exporter": "python",
   "pygments_lexer": "ipython2",
   "version": "2.7.6"
  }
 },
 "nbformat": 4,
 "nbformat_minor": 5
}
